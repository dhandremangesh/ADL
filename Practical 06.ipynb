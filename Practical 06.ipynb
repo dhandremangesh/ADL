{
 "cells": [
  {
   "cell_type": "markdown",
   "metadata": {
    "id": "fYd2sO025x-U"
   },
   "source": [
    "**Aim: Write a program for the Implementation of a Generative Adversarial Network for generating synthetic shapes (like digits)**"
   ]
  },
  {
   "cell_type": "code",
   "execution_count": 38,
   "metadata": {
    "executionInfo": {
     "elapsed": 1650,
     "status": "ok",
     "timestamp": 1686387742583,
     "user": {
      "displayName": "Jagruti Raut",
      "userId": "10856469105308075013"
     },
     "user_tz": -330
    },
    "id": "WBqyj3sp5eXH"
   },
   "outputs": [],
   "source": [
    "# importing modules\n",
    "from numpy import expand_dims, ones, zeros, random\n",
    "from keras.datasets.mnist import load_data\n",
    "from keras.optimizers import Adam\n",
    "from keras.models import Sequential\n",
    "from keras.layers import Dense, Conv2D, Flatten, Dropout, LeakyReLU"
   ]
  },
  {
   "cell_type": "code",
   "execution_count": 39,
   "metadata": {
    "executionInfo": {
     "elapsed": 1397,
     "status": "ok",
     "timestamp": 1686387770507,
     "user": {
      "displayName": "Jagruti Raut",
      "userId": "10856469105308075013"
     },
     "user_tz": -330
    },
    "id": "hvto7NGc56jn"
   },
   "outputs": [],
   "source": [
    "# define the standalone discriminator model\n",
    "def define_discriminator(in_shape=(28,28,1)):\n",
    "    model = Sequential()\n",
    "    model.add(Conv2D(64, (3,3), strides=(2, 2), padding='same', input_shape=in_shape))\n",
    "    model.add(LeakyReLU(alpha=0.2))\n",
    "    model.add(Dropout(0.4))\n",
    "    model.add(Conv2D(64, (3,3), strides=(2, 2), padding='same'))\n",
    "    model.add(LeakyReLU(alpha=0.2))\n",
    "    model.add(Dropout(0.4))\n",
    "    model.add(Flatten())\n",
    "    model.add(Dense(1, activation='sigmoid'))\n",
    "    # compile model\n",
    "    opt = Adam(learning_rate=0.0002, beta_1=0.5)\n",
    "    model.compile(loss='binary_crossentropy', optimizer=opt, metrics=['accuracy'])\n",
    "    return model"
   ]
  },
  {
   "cell_type": "code",
   "execution_count": 40,
   "metadata": {
    "colab": {
     "base_uri": "https://localhost:8080/"
    },
    "executionInfo": {
     "elapsed": 397,
     "status": "ok",
     "timestamp": 1686387790754,
     "user": {
      "displayName": "Jagruti Raut",
      "userId": "10856469105308075013"
     },
     "user_tz": -330
    },
    "id": "UEhyk7GRi3-0",
    "outputId": "68ba8970-516f-4a61-9dc9-f54c7ec08920"
   },
   "outputs": [
    {
     "data": {
      "text/html": [
       "<pre style=\"white-space:pre;overflow-x:auto;line-height:normal;font-family:Menlo,'DejaVu Sans Mono',consolas,'Courier New',monospace\"><span style=\"font-weight: bold\">Model: \"sequential_11\"</span>\n",
       "</pre>\n"
      ],
      "text/plain": [
       "\u001b[1mModel: \"sequential_11\"\u001b[0m\n"
      ]
     },
     "metadata": {},
     "output_type": "display_data"
    },
    {
     "data": {
      "text/html": [
       "<pre style=\"white-space:pre;overflow-x:auto;line-height:normal;font-family:Menlo,'DejaVu Sans Mono',consolas,'Courier New',monospace\">┏━━━━━━━━━━━━━━━━━━━━━━━━━━━━━━━━━┳━━━━━━━━━━━━━━━━━━━━━━━━┳━━━━━━━━━━━━━━━┓\n",
       "┃<span style=\"font-weight: bold\"> Layer (type)                    </span>┃<span style=\"font-weight: bold\"> Output Shape           </span>┃<span style=\"font-weight: bold\">       Param # </span>┃\n",
       "┡━━━━━━━━━━━━━━━━━━━━━━━━━━━━━━━━━╇━━━━━━━━━━━━━━━━━━━━━━━━╇━━━━━━━━━━━━━━━┩\n",
       "│ conv2d_22 (<span style=\"color: #0087ff; text-decoration-color: #0087ff\">Conv2D</span>)              │ (<span style=\"color: #00d7ff; text-decoration-color: #00d7ff\">None</span>, <span style=\"color: #00af00; text-decoration-color: #00af00\">14</span>, <span style=\"color: #00af00; text-decoration-color: #00af00\">14</span>, <span style=\"color: #00af00; text-decoration-color: #00af00\">64</span>)     │           <span style=\"color: #00af00; text-decoration-color: #00af00\">640</span> │\n",
       "├─────────────────────────────────┼────────────────────────┼───────────────┤\n",
       "│ leaky_re_lu_22 (<span style=\"color: #0087ff; text-decoration-color: #0087ff\">LeakyReLU</span>)      │ (<span style=\"color: #00d7ff; text-decoration-color: #00d7ff\">None</span>, <span style=\"color: #00af00; text-decoration-color: #00af00\">14</span>, <span style=\"color: #00af00; text-decoration-color: #00af00\">14</span>, <span style=\"color: #00af00; text-decoration-color: #00af00\">64</span>)     │             <span style=\"color: #00af00; text-decoration-color: #00af00\">0</span> │\n",
       "├─────────────────────────────────┼────────────────────────┼───────────────┤\n",
       "│ dropout_22 (<span style=\"color: #0087ff; text-decoration-color: #0087ff\">Dropout</span>)            │ (<span style=\"color: #00d7ff; text-decoration-color: #00d7ff\">None</span>, <span style=\"color: #00af00; text-decoration-color: #00af00\">14</span>, <span style=\"color: #00af00; text-decoration-color: #00af00\">14</span>, <span style=\"color: #00af00; text-decoration-color: #00af00\">64</span>)     │             <span style=\"color: #00af00; text-decoration-color: #00af00\">0</span> │\n",
       "├─────────────────────────────────┼────────────────────────┼───────────────┤\n",
       "│ conv2d_23 (<span style=\"color: #0087ff; text-decoration-color: #0087ff\">Conv2D</span>)              │ (<span style=\"color: #00d7ff; text-decoration-color: #00d7ff\">None</span>, <span style=\"color: #00af00; text-decoration-color: #00af00\">7</span>, <span style=\"color: #00af00; text-decoration-color: #00af00\">7</span>, <span style=\"color: #00af00; text-decoration-color: #00af00\">64</span>)       │        <span style=\"color: #00af00; text-decoration-color: #00af00\">36,928</span> │\n",
       "├─────────────────────────────────┼────────────────────────┼───────────────┤\n",
       "│ leaky_re_lu_23 (<span style=\"color: #0087ff; text-decoration-color: #0087ff\">LeakyReLU</span>)      │ (<span style=\"color: #00d7ff; text-decoration-color: #00d7ff\">None</span>, <span style=\"color: #00af00; text-decoration-color: #00af00\">7</span>, <span style=\"color: #00af00; text-decoration-color: #00af00\">7</span>, <span style=\"color: #00af00; text-decoration-color: #00af00\">64</span>)       │             <span style=\"color: #00af00; text-decoration-color: #00af00\">0</span> │\n",
       "├─────────────────────────────────┼────────────────────────┼───────────────┤\n",
       "│ dropout_23 (<span style=\"color: #0087ff; text-decoration-color: #0087ff\">Dropout</span>)            │ (<span style=\"color: #00d7ff; text-decoration-color: #00d7ff\">None</span>, <span style=\"color: #00af00; text-decoration-color: #00af00\">7</span>, <span style=\"color: #00af00; text-decoration-color: #00af00\">7</span>, <span style=\"color: #00af00; text-decoration-color: #00af00\">64</span>)       │             <span style=\"color: #00af00; text-decoration-color: #00af00\">0</span> │\n",
       "├─────────────────────────────────┼────────────────────────┼───────────────┤\n",
       "│ flatten_11 (<span style=\"color: #0087ff; text-decoration-color: #0087ff\">Flatten</span>)            │ (<span style=\"color: #00d7ff; text-decoration-color: #00d7ff\">None</span>, <span style=\"color: #00af00; text-decoration-color: #00af00\">3136</span>)           │             <span style=\"color: #00af00; text-decoration-color: #00af00\">0</span> │\n",
       "├─────────────────────────────────┼────────────────────────┼───────────────┤\n",
       "│ dense_11 (<span style=\"color: #0087ff; text-decoration-color: #0087ff\">Dense</span>)                │ (<span style=\"color: #00d7ff; text-decoration-color: #00d7ff\">None</span>, <span style=\"color: #00af00; text-decoration-color: #00af00\">1</span>)              │         <span style=\"color: #00af00; text-decoration-color: #00af00\">3,137</span> │\n",
       "└─────────────────────────────────┴────────────────────────┴───────────────┘\n",
       "</pre>\n"
      ],
      "text/plain": [
       "┏━━━━━━━━━━━━━━━━━━━━━━━━━━━━━━━━━┳━━━━━━━━━━━━━━━━━━━━━━━━┳━━━━━━━━━━━━━━━┓\n",
       "┃\u001b[1m \u001b[0m\u001b[1mLayer (type)                   \u001b[0m\u001b[1m \u001b[0m┃\u001b[1m \u001b[0m\u001b[1mOutput Shape          \u001b[0m\u001b[1m \u001b[0m┃\u001b[1m \u001b[0m\u001b[1m      Param #\u001b[0m\u001b[1m \u001b[0m┃\n",
       "┡━━━━━━━━━━━━━━━━━━━━━━━━━━━━━━━━━╇━━━━━━━━━━━━━━━━━━━━━━━━╇━━━━━━━━━━━━━━━┩\n",
       "│ conv2d_22 (\u001b[38;5;33mConv2D\u001b[0m)              │ (\u001b[38;5;45mNone\u001b[0m, \u001b[38;5;34m14\u001b[0m, \u001b[38;5;34m14\u001b[0m, \u001b[38;5;34m64\u001b[0m)     │           \u001b[38;5;34m640\u001b[0m │\n",
       "├─────────────────────────────────┼────────────────────────┼───────────────┤\n",
       "│ leaky_re_lu_22 (\u001b[38;5;33mLeakyReLU\u001b[0m)      │ (\u001b[38;5;45mNone\u001b[0m, \u001b[38;5;34m14\u001b[0m, \u001b[38;5;34m14\u001b[0m, \u001b[38;5;34m64\u001b[0m)     │             \u001b[38;5;34m0\u001b[0m │\n",
       "├─────────────────────────────────┼────────────────────────┼───────────────┤\n",
       "│ dropout_22 (\u001b[38;5;33mDropout\u001b[0m)            │ (\u001b[38;5;45mNone\u001b[0m, \u001b[38;5;34m14\u001b[0m, \u001b[38;5;34m14\u001b[0m, \u001b[38;5;34m64\u001b[0m)     │             \u001b[38;5;34m0\u001b[0m │\n",
       "├─────────────────────────────────┼────────────────────────┼───────────────┤\n",
       "│ conv2d_23 (\u001b[38;5;33mConv2D\u001b[0m)              │ (\u001b[38;5;45mNone\u001b[0m, \u001b[38;5;34m7\u001b[0m, \u001b[38;5;34m7\u001b[0m, \u001b[38;5;34m64\u001b[0m)       │        \u001b[38;5;34m36,928\u001b[0m │\n",
       "├─────────────────────────────────┼────────────────────────┼───────────────┤\n",
       "│ leaky_re_lu_23 (\u001b[38;5;33mLeakyReLU\u001b[0m)      │ (\u001b[38;5;45mNone\u001b[0m, \u001b[38;5;34m7\u001b[0m, \u001b[38;5;34m7\u001b[0m, \u001b[38;5;34m64\u001b[0m)       │             \u001b[38;5;34m0\u001b[0m │\n",
       "├─────────────────────────────────┼────────────────────────┼───────────────┤\n",
       "│ dropout_23 (\u001b[38;5;33mDropout\u001b[0m)            │ (\u001b[38;5;45mNone\u001b[0m, \u001b[38;5;34m7\u001b[0m, \u001b[38;5;34m7\u001b[0m, \u001b[38;5;34m64\u001b[0m)       │             \u001b[38;5;34m0\u001b[0m │\n",
       "├─────────────────────────────────┼────────────────────────┼───────────────┤\n",
       "│ flatten_11 (\u001b[38;5;33mFlatten\u001b[0m)            │ (\u001b[38;5;45mNone\u001b[0m, \u001b[38;5;34m3136\u001b[0m)           │             \u001b[38;5;34m0\u001b[0m │\n",
       "├─────────────────────────────────┼────────────────────────┼───────────────┤\n",
       "│ dense_11 (\u001b[38;5;33mDense\u001b[0m)                │ (\u001b[38;5;45mNone\u001b[0m, \u001b[38;5;34m1\u001b[0m)              │         \u001b[38;5;34m3,137\u001b[0m │\n",
       "└─────────────────────────────────┴────────────────────────┴───────────────┘\n"
      ]
     },
     "metadata": {},
     "output_type": "display_data"
    },
    {
     "data": {
      "text/html": [
       "<pre style=\"white-space:pre;overflow-x:auto;line-height:normal;font-family:Menlo,'DejaVu Sans Mono',consolas,'Courier New',monospace\"><span style=\"font-weight: bold\"> Total params: </span><span style=\"color: #00af00; text-decoration-color: #00af00\">40,705</span> (159.00 KB)\n",
       "</pre>\n"
      ],
      "text/plain": [
       "\u001b[1m Total params: \u001b[0m\u001b[38;5;34m40,705\u001b[0m (159.00 KB)\n"
      ]
     },
     "metadata": {},
     "output_type": "display_data"
    },
    {
     "data": {
      "text/html": [
       "<pre style=\"white-space:pre;overflow-x:auto;line-height:normal;font-family:Menlo,'DejaVu Sans Mono',consolas,'Courier New',monospace\"><span style=\"font-weight: bold\"> Trainable params: </span><span style=\"color: #00af00; text-decoration-color: #00af00\">40,705</span> (159.00 KB)\n",
       "</pre>\n"
      ],
      "text/plain": [
       "\u001b[1m Trainable params: \u001b[0m\u001b[38;5;34m40,705\u001b[0m (159.00 KB)\n"
      ]
     },
     "metadata": {},
     "output_type": "display_data"
    },
    {
     "data": {
      "text/html": [
       "<pre style=\"white-space:pre;overflow-x:auto;line-height:normal;font-family:Menlo,'DejaVu Sans Mono',consolas,'Courier New',monospace\"><span style=\"font-weight: bold\"> Non-trainable params: </span><span style=\"color: #00af00; text-decoration-color: #00af00\">0</span> (0.00 B)\n",
       "</pre>\n"
      ],
      "text/plain": [
       "\u001b[1m Non-trainable params: \u001b[0m\u001b[38;5;34m0\u001b[0m (0.00 B)\n"
      ]
     },
     "metadata": {},
     "output_type": "display_data"
    }
   ],
   "source": [
    "# define model\n",
    "model = define_discriminator()\n",
    "# summarize the model\n",
    "model.summary()"
   ]
  },
  {
   "cell_type": "code",
   "execution_count": 41,
   "metadata": {
    "executionInfo": {
     "elapsed": 358,
     "status": "ok",
     "timestamp": 1686387933151,
     "user": {
      "displayName": "Jagruti Raut",
      "userId": "10856469105308075013"
     },
     "user_tz": -330
    },
    "id": "iVfXW_IP6s-V"
   },
   "outputs": [],
   "source": [
    "# load and prepare mnist training images\n",
    "def load_real_samples():\n",
    "    (trainX, _), (_, _) = load_data()  # load mnist dataset\n",
    "    X = expand_dims(trainX, axis=-1)  # expand to 3d, e.g. add channels dimension\n",
    "    # convert from unsigned ints to floats\n",
    "    X = X.astype('float32')\n",
    "    # scale from [0,255] to [0,1]\n",
    "    X = X / 255.0\n",
    "    return X"
   ]
  },
  {
   "cell_type": "code",
   "execution_count": 42,
   "metadata": {
    "executionInfo": {
     "elapsed": 375,
     "status": "ok",
     "timestamp": 1686388111154,
     "user": {
      "displayName": "Jagruti Raut",
      "userId": "10856469105308075013"
     },
     "user_tz": -330
    },
    "id": "-CRW3KbhjdVb"
   },
   "outputs": [],
   "source": [
    "# select real samples\n",
    "def generate_real_samples(dataset, n_samples):\n",
    "    ix = random.randint(0, dataset.shape[0], n_samples)  # choose random instances\n",
    "    # retrieve selected images\n",
    "    X = dataset[ix]\n",
    "    # generate 'real' class labels (1)\n",
    "    y = ones((n_samples, 1))\n",
    "    return X, y"
   ]
  },
  {
   "cell_type": "code",
   "execution_count": 43,
   "metadata": {
    "executionInfo": {
     "elapsed": 349,
     "status": "ok",
     "timestamp": 1686388164636,
     "user": {
      "displayName": "Jagruti Raut",
      "userId": "10856469105308075013"
     },
     "user_tz": -330
    },
    "id": "ZBMLzWGYkOIa"
   },
   "outputs": [],
   "source": [
    "# generate n fake samples with class labels\n",
    "def generate_fake_samples(n_samples):\n",
    "  X = rand(28 * 28 * n_samples)  # generate uniform random numbers in [0,1]\n",
    "  # reshape into a batch of grayscale images\n",
    "  X = X.reshape((n_samples, 28, 28, 1))\n",
    "  # generate 'fake' class labels (0)\n",
    "  y = zeros((n_samples, 1))\n",
    "  return X, y\n",
    "# generate n fake samples with class labels\n",
    "def generate_fake_samples(n_samples):\n",
    "    # generate uniform random numbers in [0,1]\n",
    "    X = random.rand(28 * 28 * n_samples)\n",
    "    # reshape into a batch of grayscale images\n",
    "    X = X.reshape((n_samples, 28, 28, 1))\n",
    "    # generate 'fake' class labels (0)\n",
    "    y = zeros((n_samples, 1))\n",
    "    return X, y"
   ]
  },
  {
   "cell_type": "code",
   "execution_count": 44,
   "metadata": {
    "executionInfo": {
     "elapsed": 361,
     "status": "ok",
     "timestamp": 1686388371553,
     "user": {
      "displayName": "Jagruti Raut",
      "userId": "10856469105308075013"
     },
     "user_tz": -330
    },
    "id": "gBtYALEFkkox"
   },
   "outputs": [],
   "source": [
    "# train the discriminator model\n",
    "def train_discriminator(model, dataset, n_iter=100, n_batch=256):\n",
    "  half_batch = int(n_batch / 2)\n",
    "  # manually enumerate epochs\n",
    "  for i in range(n_iter):\n",
    "    X_real, y_real = generate_real_samples(dataset, half_batch) # get randomly selected 'real' samples\n",
    "    # update discriminator on real samples\n",
    "    _, real_acc = model.train_on_batch(X_real, y_real)\n",
    "    # generate 'fake' examples\n",
    "    X_fake, y_fake = generate_fake_samples(half_batch)\n",
    "    # update discriminator on fake samples\n",
    "    _, fake_acc = model.train_on_batch(X_fake, y_fake)\n",
    "    # summarize performance\n",
    "    print('>%d real=%.0f%% fake=%.0f%%' % (i+1, real_acc*100, fake_acc*100))"
   ]
  },
  {
   "cell_type": "code",
   "execution_count": 14,
   "metadata": {
    "colab": {
     "base_uri": "https://localhost:8080/"
    },
    "executionInfo": {
     "elapsed": 13073,
     "status": "ok",
     "timestamp": 1686388429484,
     "user": {
      "displayName": "Jagruti Raut",
      "userId": "10856469105308075013"
     },
     "user_tz": -330
    },
    "id": "sjvX8Wu9lQ9A",
    "outputId": "b6331431-2865-4209-bdbc-74b6d8846a36"
   },
   "outputs": [
    {
     "name": "stdout",
     "output_type": "stream",
     "text": [
      "Downloading data from https://storage.googleapis.com/tensorflow/tf-keras-datasets/mnist.npz\n",
      "11490434/11490434 [==============================] - 0s 0us/step\n",
      ">1 real=78% fake=5%\n",
      ">2 real=88% fake=12%\n",
      ">3 real=89% fake=32%\n",
      ">4 real=89% fake=53%\n",
      ">5 real=87% fake=69%\n",
      ">6 real=87% fake=80%\n",
      ">7 real=80% fake=91%\n",
      ">8 real=88% fake=99%\n",
      ">9 real=80% fake=99%\n",
      ">10 real=77% fake=100%\n",
      ">11 real=71% fake=100%\n",
      ">12 real=74% fake=100%\n",
      ">13 real=77% fake=100%\n",
      ">14 real=75% fake=100%\n",
      ">15 real=70% fake=100%\n",
      ">16 real=77% fake=100%\n",
      ">17 real=75% fake=100%\n",
      ">18 real=70% fake=100%\n",
      ">19 real=80% fake=100%\n",
      ">20 real=73% fake=100%\n",
      ">21 real=82% fake=100%\n",
      ">22 real=88% fake=100%\n",
      ">23 real=89% fake=100%\n",
      ">24 real=90% fake=100%\n",
      ">25 real=92% fake=100%\n",
      ">26 real=95% fake=100%\n",
      ">27 real=95% fake=100%\n",
      ">28 real=94% fake=100%\n",
      ">29 real=96% fake=100%\n",
      ">30 real=98% fake=100%\n",
      ">31 real=99% fake=100%\n",
      ">32 real=98% fake=100%\n",
      ">33 real=99% fake=100%\n",
      ">34 real=100% fake=100%\n",
      ">35 real=98% fake=100%\n",
      ">36 real=99% fake=100%\n",
      ">37 real=99% fake=100%\n",
      ">38 real=100% fake=100%\n",
      ">39 real=100% fake=100%\n",
      ">40 real=99% fake=100%\n",
      ">41 real=100% fake=100%\n",
      ">42 real=100% fake=100%\n",
      ">43 real=100% fake=100%\n",
      ">44 real=100% fake=100%\n",
      ">45 real=99% fake=100%\n",
      ">46 real=99% fake=100%\n",
      ">47 real=100% fake=100%\n",
      ">48 real=100% fake=100%\n",
      ">49 real=100% fake=100%\n",
      ">50 real=100% fake=100%\n",
      ">51 real=100% fake=100%\n",
      ">52 real=100% fake=100%\n",
      ">53 real=100% fake=100%\n",
      ">54 real=100% fake=100%\n",
      ">55 real=100% fake=100%\n",
      ">56 real=100% fake=100%\n",
      ">57 real=100% fake=100%\n",
      ">58 real=100% fake=100%\n",
      ">59 real=99% fake=100%\n",
      ">60 real=100% fake=100%\n",
      ">61 real=100% fake=100%\n",
      ">62 real=100% fake=100%\n",
      ">63 real=100% fake=100%\n",
      ">64 real=100% fake=100%\n",
      ">65 real=100% fake=100%\n",
      ">66 real=100% fake=100%\n",
      ">67 real=100% fake=100%\n",
      ">68 real=100% fake=100%\n",
      ">69 real=100% fake=100%\n",
      ">70 real=100% fake=100%\n",
      ">71 real=100% fake=100%\n",
      ">72 real=100% fake=100%\n",
      ">73 real=100% fake=100%\n",
      ">74 real=100% fake=100%\n",
      ">75 real=100% fake=100%\n",
      ">76 real=100% fake=100%\n",
      ">77 real=100% fake=100%\n",
      ">78 real=100% fake=100%\n",
      ">79 real=100% fake=100%\n",
      ">80 real=100% fake=100%\n",
      ">81 real=100% fake=100%\n",
      ">82 real=100% fake=100%\n",
      ">83 real=100% fake=100%\n",
      ">84 real=100% fake=100%\n",
      ">85 real=100% fake=100%\n",
      ">86 real=100% fake=100%\n",
      ">87 real=100% fake=100%\n",
      ">88 real=100% fake=100%\n",
      ">89 real=100% fake=100%\n",
      ">90 real=100% fake=100%\n",
      ">91 real=100% fake=100%\n",
      ">92 real=100% fake=100%\n",
      ">93 real=100% fake=100%\n",
      ">94 real=100% fake=100%\n",
      ">95 real=100% fake=100%\n",
      ">96 real=100% fake=100%\n",
      ">97 real=100% fake=100%\n",
      ">98 real=100% fake=100%\n",
      ">99 real=100% fake=100%\n",
      ">100 real=100% fake=100%\n"
     ]
    }
   ],
   "source": [
    "# define the discriminator model\n",
    "model = define_discriminator()\n",
    "# load image data\n",
    "dataset = load_real_samples()\n",
    "# fit the model\n",
    "train_discriminator(model, dataset)"
   ]
  }
 ],
 "metadata": {
  "colab": {
   "authorship_tag": "ABX9TyOFPuB19+m7yVIRrtBebw2I",
   "provenance": []
  },
  "kernelspec": {
   "display_name": "Python 3 (ipykernel)",
   "language": "python",
   "name": "python3"
  },
  "language_info": {
   "codemirror_mode": {
    "name": "ipython",
    "version": 3
   },
   "file_extension": ".py",
   "mimetype": "text/x-python",
   "name": "python",
   "nbconvert_exporter": "python",
   "pygments_lexer": "ipython3",
   "version": "3.9.13"
  }
 },
 "nbformat": 4,
 "nbformat_minor": 1
}
